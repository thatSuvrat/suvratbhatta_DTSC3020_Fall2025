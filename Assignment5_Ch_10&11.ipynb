{
  "cells": [
    {
      "cell_type": "markdown",
      "id": "9903d230",
      "metadata": {
        "id": "9903d230"
      },
      "source": [
        "# Assignment5: CRM Cleanup @ **DalaShop**\n",
        "*Files (Ch.10), Exceptions (Ch.10), Unit Tests (Ch.11), and Regular Expressions*  \n",
        ".....\n",
        "\n",
        "**Total: 3 points**  (Two questions, 1.5 pts each)  \n",
        "\n",
        "> This assignment is scenario-based and aligned with Python Crash Course Ch.10 (files & exceptions), Ch.11 (unit testing with `unittest`), and Regular Expressions."
      ]
    },
    {
      "cell_type": "markdown",
      "id": "d6487401",
      "metadata": {
        "id": "d6487401"
      },
      "source": [
        "## Scenario\n",
        "You are a data intern at an online retailer called **DalaShop**.  \n",
        "Sales exported a **raw contacts** file from the CRM. It contains customer names, emails, and phone numbers, but the formatting is messy and some emails are invalid.  \n",
        "Your tasks:\n",
        "\n",
        "1. **Clean** the contacts (Files + Exceptions + Regex).  \n",
        "2. **Write unit tests** to make sure your helper functions work correctly and keep working in the future."
      ]
    },
    {
      "cell_type": "markdown",
      "id": "0bd1712f",
      "metadata": {
        "id": "0bd1712f"
      },
      "source": [
        "## Data file (given by the company): `contacts_raw.txt`\n",
        "Use this exact sample data (you may extend it for your own testing, but do **not** change it when submitting).  \n",
        "Run the next cell once to create the file beside your notebook."
      ]
    },
    {
      "cell_type": "code",
      "execution_count": 1,
      "id": "c395a1a8",
      "metadata": {
        "id": "c395a1a8"
      },
      "outputs": [
        {
          "name": "stdout",
          "output_type": "stream",
          "text": [
            "Wrote contacts_raw.txt with sample DalaShop data.\n"
          ]
        }
      ],
      "source": [
        "# Create the provided company dataset file\n",
        "with open(\"contacts_raw.txt\", \"w\", encoding=\"utf-8\") as f:\n",
        "    f.write('Alice Johnson <alice@example.com> , +1 (469) 555-1234\\nBob Roberts <bob[at]example.com> , 972-555-777\\nSara M. , sara@mail.co , 214 555 8888\\n\"Mehdi A.\" <mehdi.ay@example.org> , (469)555-9999\\nDelaram <delaram@example.io>, +1-972-777-2121\\nNima <NIMA@example.io> , 972.777.2121\\nduplicate <Alice@Example.com> , 469 555 1234')\n",
        "print(\"Wrote contacts_raw.txt with sample DalaShop data.\")"
      ]
    },
    {
      "cell_type": "markdown",
      "id": "1b535f73",
      "metadata": {
        "id": "1b535f73"
      },
      "source": [
        "## Q1 (1.5 pts) — CRM cleanup with Files, Exceptions, and Regex\n",
        "Implement `q1_crm_cleanup.py` to:\n",
        "\n",
        "1. **Read** `contacts_raw.txt` using `pathlib` and `with`. If the file is missing, **handle** it gracefully with `try/except FileNotFoundError` (print a friendly message; do not crash).\n",
        "2. **Validate emails** with a simple regex (`r\"[A-Za-z0-9._%+-]+@[A-Za-z0-9.-]+\\.[A-Za-z]{2,}\"`).  \n",
        "   - Trim whitespace with `strip()` before checking.  \n",
        "   - Use **full** matching (not partial).\n",
        "3. **Normalize phone numbers:** remove all non-digits (e.g., with `re.sub(r\"\\D\", \"\", raw)`).  \n",
        "   - If the result has **≥ 10 digits**, keep the **last 10 digits**.  \n",
        "   - Otherwise, return an **empty string** (`\"\"`).\n",
        "4. **Filter rows:** keep **only** rows with a valid email.\n",
        "5. **Deduplicate:** remove duplicates by **email** using **case-insensitive** comparison (e.g., `email.casefold()`). **Keep the first occurrence** and drop later duplicates.\n",
        "6. **Output CSV:** write to `contacts_clean.csv` with **columns exactly** `name,email,phone` (UTF-8).  \n",
        "7. **Preserve input order:** the order of rows in `contacts_clean.csv` must match the **first appearance** order from the input file. **Do not sort** the rows.\n",
        "\n",
        "**Grading rubric (1.5 pts):**\n",
        "- (0.4) File read/write via `pathlib` + graceful `FileNotFoundError` handling  \n",
        "- (0.5) Correct email regex validation + filtering  \n",
        "- (0.4) Phone normalization + case-insensitive de-dup (keep first)  \n",
        "- (0.2) Clean code, clear names, minimal docstrings/comments"
      ]
    },
    {
      "cell_type": "code",
      "execution_count": 3,
      "id": "e1ccf095",
      "metadata": {},
      "outputs": [
        {
          "name": "stdout",
          "output_type": "stream",
          "text": [
            "✅ Cleaned data written to contact_clean.csv\n"
          ]
        }
      ],
      "source": [
        "import re\n",
        "import csv\n",
        "from pathlib import Path\n",
        "\n",
        "EMAIL_REGEX = re.compile(r\"[A-Za-z0-9._%+-]+@[A-Za-z0-9.-]+\\.[A-Za-z]{2,}\")\n",
        "\n",
        "# ------------------------------\n",
        "# 1️⃣ Phone normalization\n",
        "# ------------------------------\n",
        "def normalize_phone(raw: str) -> str:\n",
        "    \"\"\"Keep only digits; return last 10 digits if >=10, else empty.\"\"\"\n",
        "    digits = ''.join(re.findall(r\"\\d\", raw))\n",
        "    return digits[-10:] if len(digits) >= 10 else \"\"\n",
        "\n",
        "# ------------------------------\n",
        "# 2️⃣ Email cleaning/validation\n",
        "# ------------------------------\n",
        "def clean_email(email: str) -> str:\n",
        "    \"\"\"Strip whitespace, remove angle brackets, replace [at] with @.\"\"\"\n",
        "    email = email.strip(\"<> \").replace(\"[at]\", \"@\")\n",
        "    return email if EMAIL_REGEX.fullmatch(email) else \"\"\n",
        "\n",
        "# ------------------------------\n",
        "# 3️⃣ Parse a single line into structured data\n",
        "# ------------------------------\n",
        "def parse_line(line: str) -> dict | None:\n",
        "    \"\"\"\n",
        "    Parse a line like 'Name <email>, phone' into a dict.\n",
        "    Returns None if email is invalid.\n",
        "    \"\"\"\n",
        "    parts = [p.strip() for p in line.split(\",\") if p.strip()]\n",
        "    if len(parts) < 2:\n",
        "        return None\n",
        "\n",
        "    # Extract name and email\n",
        "    if \"<\" in parts[0] and \">\" in parts[0]:\n",
        "        name = parts[0][:parts[0].find(\"<\")].strip().strip('\"')\n",
        "        email = parts[0][parts[0].find(\"<\")+1 : parts[0].find(\">\")]\n",
        "    else:\n",
        "        name = parts[0].strip().strip('\"')\n",
        "        email = parts[1]\n",
        "\n",
        "    email = clean_email(email)\n",
        "    if not email:\n",
        "        return None\n",
        "\n",
        "    # Extract phone (last part)\n",
        "    phone = normalize_phone(parts[-1])\n",
        "\n",
        "    return {\"name\": name, \"email\": email, \"phone\": phone}\n",
        "\n",
        "# ------------------------------\n",
        "# 4️⃣ Deduplicate rows by email (case-insensitive)\n",
        "# ------------------------------\n",
        "def deduplicate_rows(rows: list[dict]) -> list[dict]:\n",
        "    seen = set()\n",
        "    result = []\n",
        "    for row in rows:\n",
        "        key = row[\"email\"].casefold()\n",
        "        if key not in seen:\n",
        "            seen.add(key)\n",
        "            result.append(row)\n",
        "    return result\n",
        "\n",
        "# ------------------------------\n",
        "# 5️⃣ Parse multiple lines of text\n",
        "# ------------------------------\n",
        "def parse_text(text: str) -> list[dict]:\n",
        "    rows = [parse_line(line) for line in text.splitlines()]\n",
        "    rows = [row for row in rows if row is not None]\n",
        "    return deduplicate_rows(rows)\n",
        "\n",
        "# ------------------------------\n",
        "# 6️⃣ Write cleaned rows to CSV\n",
        "# ------------------------------\n",
        "def write_csv(rows: list[dict], output_file: Path):\n",
        "    with output_file.open(\"w\", newline=\"\", encoding=\"utf-8\") as f:\n",
        "        writer = csv.DictWriter(f, fieldnames=[\"name\", \"email\", \"phone\"])\n",
        "        writer.writeheader()\n",
        "        writer.writerows(rows)\n",
        "\n",
        "# ------------------------------\n",
        "# Optional: convenience function to read file + process\n",
        "# ------------------------------\n",
        "def process_file(input_file: Path, output_file: Path):\n",
        "    try:\n",
        "        text = input_file.read_text(encoding=\"utf-8\")\n",
        "    except FileNotFoundError:\n",
        "        print(f\"⚠️ File not found: {input_file}\")\n",
        "        return\n",
        "\n",
        "    rows = parse_text(text)\n",
        "    write_csv(rows, output_file)\n",
        "    print(f\"✅ Cleaned data written to {output_file}\")\n",
        "\n",
        "process_file(Path(\"contacts_raw.txt\"), Path(\"contact_clean.csv\"))\n"
      ]
    },
    {
      "cell_type": "markdown",
      "id": "258c5b04",
      "metadata": {
        "id": "258c5b04"
      },
      "source": [
        "## Q2 (1.5 pts) — Unit testing with `unittest`\n",
        "Create tests in `test_crm_cleanup.py` that cover at least:\n",
        "\n",
        "1. **Email validation**: valid/invalid variations.  \n",
        "2. **Phone normalization**: parentheses, dashes, spaces, country code; too-short cases.  \n",
        "3. **Parsing**: from a small multi-line string (not from a file), assert the exact structured rows (name/email/phone).  \n",
        "4. **De-duplication**: demonstrate that a case-variant duplicate email is dropped (first occurrence kept)."
      ]
    },
    {
      "cell_type": "code",
      "execution_count": null,
      "id": "_M18cJw2NqZm",
      "metadata": {
        "id": "_M18cJw2NqZm"
      },
      "outputs": [
        {
          "name": "stderr",
          "output_type": "stream",
          "text": [
            "test_deduplication_case_insensitive (__main__.TestCRMCleanup.test_deduplication_case_insensitive) ... ok\n",
            "test_invalid_emails (__main__.TestCRMCleanup.test_invalid_emails) ... ok\n",
            "test_parsing_and_structure (__main__.TestCRMCleanup.test_parsing_and_structure) ... ok\n",
            "test_phone_normalization (__main__.TestCRMCleanup.test_phone_normalization) ... ok\n",
            "test_valid_emails (__main__.TestCRMCleanup.test_valid_emails) ... ok\n",
            "\n",
            "----------------------------------------------------------------------\n",
            "Ran 5 tests in 0.005s\n",
            "\n",
            "OK\n"
          ]
        }
      ],
      "source": [
        "import unittest\n",
        "\n",
        "class TestCRMCleanup(unittest.TestCase):\n",
        "\n",
        "    # -------------------------------------------------------------\n",
        "    # 1️⃣ Email validation tests\n",
        "    # -------------------------------------------------------------\n",
        "    def test_valid_emails(self):\n",
        "        valid_emails = [\n",
        "            \"alice@example.com\",\n",
        "            \"bob.smith@company.co\",\n",
        "            \"user+alias@domain.org\",\n",
        "            \"UPPERCASE@EXAMPLE.IO\",\n",
        "        ]\n",
        "        for email in valid_emails:\n",
        "            with self.subTest(email=email):\n",
        "                self.assertEqual(clean_email(email), email)\n",
        "\n",
        "    def test_invalid_emails(self):\n",
        "        invalid_emails = [\n",
        "            \"no-at-symbol.com\",\n",
        "            \"user@.com\",\n",
        "            \"bad@email\",\n",
        "            \"another@@example.com\",\n",
        "            \"email@domain,com\",\n",
        "        ]\n",
        "        for email in invalid_emails:\n",
        "            with self.subTest(email=email):\n",
        "                self.assertEqual(clean_email(email), \"\")\n",
        "\n",
        "    # -------------------------------------------------------------\n",
        "    # 2️⃣ Phone normalization tests\n",
        "    # -------------------------------------------------------------\n",
        "    def test_phone_normalization(self):\n",
        "        cases = {\n",
        "            \"(469) 555-1234\": \"4695551234\",\n",
        "            \"+1-972-555-7777\": \"9725557777\",\n",
        "            \"214.555.8888\": \"2145558888\",\n",
        "            \"972 777 2121\": \"9727772121\",\n",
        "            \"555-999\": \"\",  # too short\n",
        "        }\n",
        "        for raw, expected in cases.items():\n",
        "            with self.subTest(raw=raw):\n",
        "                self.assertEqual(normalize_phone(raw), expected)\n",
        "\n",
        "    # -------------------------------------------------------------\n",
        "    # 3️⃣ Parsing logic from multi-line string\n",
        "    # -------------------------------------------------------------\n",
        "    def test_parsing_and_structure(self):\n",
        "        text = \"\"\"Alice Johnson <alice@example.com> , +1 (469) 555-1234\n",
        "Sara M. , sara@mail.co , 214 555 8888\n",
        "invalid_user , user@invalid , 555-000-0000\n",
        "duplicate <Alice@Example.com> , 469 555 1234\n",
        "\"Mehdi A.\" <mehdi.ay@example.org> , (469)555-9999\n",
        "\"\"\"\n",
        "        rows = parse_text(text)\n",
        "        expected = [\n",
        "            {\"name\": \"Alice Johnson\", \"email\": \"alice@example.com\", \"phone\": \"4695551234\"},\n",
        "            {\"name\": \"Sara M.\", \"email\": \"sara@mail.co\", \"phone\": \"2145558888\"},\n",
        "            {\"name\": \"Mehdi A.\", \"email\": \"mehdi.ay@example.org\", \"phone\": \"4695559999\"},\n",
        "        ]\n",
        "        self.assertEqual(rows, expected)\n",
        "\n",
        "    # -------------------------------------------------------------\n",
        "    # 4️⃣ De-duplication by case-insensitive email\n",
        "    # -------------------------------------------------------------\n",
        "    def test_deduplication_case_insensitive(self):\n",
        "        data = [\n",
        "            {\"name\": \"Alice\", \"email\": \"Alice@Example.com\", \"phone\": \"123\"},\n",
        "            {\"name\": \"Duplicate\", \"email\": \"alice@example.COM\", \"phone\": \"999\"},\n",
        "            {\"name\": \"Bob\", \"email\": \"bob@example.com\", \"phone\": \"111\"},\n",
        "        ]\n",
        "        deduped = deduplicate_rows(data)\n",
        "        expected = [\n",
        "            {\"name\": \"Alice\", \"email\": \"Alice@Example.com\", \"phone\": \"123\"},\n",
        "            {\"name\": \"Bob\", \"email\": \"bob@example.com\", \"phone\": \"111\"},\n",
        "        ]\n",
        "        self.assertEqual(deduped, expected)\n",
        "\n",
        "\n",
        "# Run tests inside Jupyter or normal Python\n",
        "if __name__ == \"__main__\":\n",
        "    unittest.main(argv=[\"first-arg-is-ignored\"], exit=False, verbosity=2)\n"
      ]
    },
    {
      "cell_type": "markdown",
      "id": "f38af38b",
      "metadata": {
        "id": "f38af38b"
      },
      "source": [
        "## Grading rubric (total 3 pts)\n",
        "- **Q1 (1.5 pts)**  \n",
        "  - (0.4) File I/O with `pathlib` + graceful `FileNotFoundError` handling  \n",
        "  - (0.5) Email validation (regex + strip + full match) and filtering  \n",
        "  - (0.4) Phone normalization and **case-insensitive** de-duplication (keep first)  \n",
        "  - (0.2) Code clarity (names, minimal docstrings/comments)\n",
        "- **Q2 (1.5 pts)**  \n",
        "  - (0.6) Meaningful coverage for email/phone functions (valid & invalid)  \n",
        "  - (0.6) Parsing & de-dup tests that assert exact expected rows  \n",
        "  - (0.3) Standard `unittest` structure and readable test names\n"
      ]
    }
  ],
  "metadata": {
    "colab": {
      "provenance": []
    },
    "kernelspec": {
      "display_name": "data_science",
      "language": "python",
      "name": "python3"
    },
    "language_info": {
      "codemirror_mode": {
        "name": "ipython",
        "version": 3
      },
      "file_extension": ".py",
      "mimetype": "text/x-python",
      "name": "python",
      "nbconvert_exporter": "python",
      "pygments_lexer": "ipython3",
      "version": "3.13.6"
    }
  },
  "nbformat": 4,
  "nbformat_minor": 5
}
