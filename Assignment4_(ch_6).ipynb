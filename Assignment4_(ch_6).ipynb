{
  "cells": [
    {
      "cell_type": "markdown",
      "id": "-astqhkqk-sA",
      "metadata": {
        "id": "-astqhkqk-sA"
      },
      "source": [
        "#DTSC 3020 – Assignment 4\n",
        "Chapter 6 – Dictionaries\n",
        "\n",
        "Total points: 4\n",
        "\n",
        "Deadline: Friday at midnight\n",
        "\n",
        "Submission: Upload your Python file to your GitHub repository and submit only your GitHub link.\n",
        "\n",
        "\n",
        "Expectations\n",
        "Write complete answers and run all cells before submission.\n",
        "Keep the notebook clean (no unnecessary code)."
      ]
    },
    {
      "cell_type": "markdown",
      "id": "Iu8c7M_Rk9AH",
      "metadata": {
        "id": "Iu8c7M_Rk9AH"
      },
      "source": [
        "Exercise  1: Find and print the student with the lowest grade."
      ]
    },
    {
      "cell_type": "code",
      "execution_count": 1,
      "id": "qL5VY2kIk4Nc",
      "metadata": {
        "id": "qL5VY2kIk4Nc"
      },
      "outputs": [
        {
          "name": "stdout",
          "output_type": "stream",
          "text": [
            "Omid has the lowest grade: 16\n"
          ]
        }
      ],
      "source": [
        "grades = {\n",
        "    'Ali': 17,\n",
        "    'Sara': 19,\n",
        "    'Reza': 18.5,\n",
        "    'Lina': 20,\n",
        "    'Omid': 16\n",
        "}\n",
        "\n",
        "# Write your code here:\n",
        "lowest_student = min(grades, key=grades.get)\n",
        "print(f\"{lowest_student} has the lowest grade: {grades[lowest_student]}\")"
      ]
    },
    {
      "cell_type": "markdown",
      "id": "y880yRq6k58C",
      "metadata": {
        "id": "y880yRq6k58C"
      },
      "source": [
        "Exercise 2: print names of students who registered for any course containing \"Data\""
      ]
    },
    {
      "cell_type": "code",
      "execution_count": 2,
      "id": "tFfys48Iodlr",
      "metadata": {
        "id": "tFfys48Iodlr"
      },
      "outputs": [
        {
          "name": "stdout",
          "output_type": "stream",
          "text": [
            "Sara\n",
            "Reza\n"
          ]
        }
      ],
      "source": [
        "courses = {\n",
        "    'Ali': ['Python', 'Math'],\n",
        "    'Sara': ['Data Mining', 'Chemistry'],\n",
        "    'Reza': ['Machine Learning', 'Data Science'],\n",
        "    'Lina': ['English', 'History']\n",
        "}\n",
        "\n",
        "# Write your code here:\n",
        "for student, course_list in courses.items():\n",
        "    if any(\"Data\" in course for course in course_list):\n",
        "        print(student)"
      ]
    },
    {
      "cell_type": "markdown",
      "id": "nUG5vQjeoWWE",
      "metadata": {
        "id": "nUG5vQjeoWWE"
      },
      "source": [
        "Exercise 3: Print titles of books that are not available."
      ]
    },
    {
      "cell_type": "code",
      "execution_count": 1,
      "id": "2kFBzKyloecs",
      "metadata": {
        "id": "2kFBzKyloecs"
      },
      "outputs": [
        {
          "name": "stdout",
          "output_type": "stream",
          "text": [
            "AI Basics is not available\n",
            "Math Advanced is not available\n"
          ]
        }
      ],
      "source": [
        "library = {\n",
        "    'Python101': {'pages': 180, 'available': True},\n",
        "    'AI Basics': {'pages': 130, 'available': False},\n",
        "    'Math Advanced': {'pages': 200, 'available': False},\n",
        "    'Statistics': {'pages': 175, 'available': True}\n",
        "}\n",
        "\n",
        "# Write your code here:\n",
        "for book, details in library.items():\n",
        "    if details['available'] == False:\n",
        "        print(f\"{book} is not available\")"
      ]
    },
    {
      "cell_type": "markdown",
      "id": "HA_jFJ3Ro2FJ",
      "metadata": {
        "id": "HA_jFJ3Ro2FJ"
      },
      "source": [
        "Exercise 4: Print names of students who are registered for more than 2 courses.\n"
      ]
    },
    {
      "cell_type": "code",
      "execution_count": 8,
      "id": "vYXKqs-jk43C",
      "metadata": {
        "id": "vYXKqs-jk43C"
      },
      "outputs": [
        {
          "name": "stdout",
          "output_type": "stream",
          "text": [
            "Sara is enrolled in more than two courses. \n",
            "\n",
            "Lina is enrolled in more than two courses. \n",
            "\n"
          ]
        }
      ],
      "source": [
        "\n",
        "registrations = {\n",
        "    'Ali': ['Python', 'Math'],\n",
        "    'Sara': ['Biology', 'Chemistry', 'Math'],\n",
        "    'Reza': ['English'],\n",
        "    'Lina': ['History', 'Physics', 'Geography', 'Art']\n",
        "}\n",
        "\n",
        "# Write your code here:\n",
        "for student, course_list in registrations.items():\n",
        "    if len(course_list) > 2:\n",
        "        print(f\"{student} is enrolled in more than two courses. \\n\")\n"
      ]
    },
    {
      "cell_type": "markdown",
      "id": "ZR7nhc-BpHvx",
      "metadata": {
        "id": "ZR7nhc-BpHvx"
      },
      "source": [
        "Exercise 5: Calculate and print the average grade of the class."
      ]
    },
    {
      "cell_type": "code",
      "execution_count": 3,
      "id": "6Xbt2zE8pGNJ",
      "metadata": {
        "id": "6Xbt2zE8pGNJ"
      },
      "outputs": [
        {
          "name": "stdout",
          "output_type": "stream",
          "text": [
            "Average is 18.1\n"
          ]
        }
      ],
      "source": [
        "grades = {\n",
        "    'Ali': 17,\n",
        "    'Sara': 19,\n",
        "    'Reza': 18.5,\n",
        "    'Lina': 20,\n",
        "    'Omid': 16\n",
        "}\n",
        "total = 0\n",
        "# Write your code here:\n",
        "for student, grade in grades.items():\n",
        "    total = total + grade\n",
        "average = total/len(grades)\n",
        "print(f\"Average is {average}\")"
      ]
    },
    {
      "cell_type": "markdown",
      "id": "U33R5aWYpev_",
      "metadata": {
        "id": "U33R5aWYpev_"
      },
      "source": [
        "Exercise 6: Count and print the number of students registered for \"Python\".\n"
      ]
    },
    {
      "cell_type": "code",
      "execution_count": 5,
      "id": "Wcjq96gVpliQ",
      "metadata": {
        "id": "Wcjq96gVpliQ"
      },
      "outputs": [
        {
          "name": "stdout",
          "output_type": "stream",
          "text": [
            "Ali is enrolled in Python \n",
            "\n",
            "Reza is enrolled in Python \n",
            "\n",
            "Omid is enrolled in Python \n",
            "\n",
            "Total students enrolled in Python: 3\n"
          ]
        }
      ],
      "source": [
        "courses = {\n",
        "    'Ali': ['Python', 'Math'],\n",
        "    'Sara': ['Biology', 'Chemistry'],\n",
        "    'Reza': ['Python', 'AI'],\n",
        "    'Lina': ['English', 'History'],\n",
        "    'Omid': ['Python']\n",
        "}\n",
        "count = 0\n",
        "# Write your code here:\n",
        "for name, courses in courses.items():\n",
        "    if 'Python' in courses:\n",
        "        print(f\"{name} is enrolled in Python \\n\")\n",
        "        count += 1\n",
        "print(f\"Total students enrolled in Python: {count}\")"
      ]
    },
    {
      "cell_type": "markdown",
      "id": "2tAWS80-p75f",
      "metadata": {
        "id": "2tAWS80-p75f"
      },
      "source": [
        "Exercise 7: Print titles of books with more than 200 pages."
      ]
    },
    {
      "cell_type": "code",
      "execution_count": 6,
      "id": "OxMTnraWp8Pf",
      "metadata": {
        "id": "OxMTnraWp8Pf"
      },
      "outputs": [
        {
          "name": "stdout",
          "output_type": "stream",
          "text": [
            "AI Basics\n",
            "Math Advanced\n",
            "Data Science\n"
          ]
        }
      ],
      "source": [
        "book_pages = {\n",
        "    'Python101': 180,\n",
        "    'AI Basics': 230,\n",
        "    'Math Advanced': 250,\n",
        "    'Statistics': 190,\n",
        "    'Data Science': 300\n",
        "}\n",
        "\n",
        "\n",
        "# write your answer here\n",
        "for title, pages in book_pages.items():\n",
        "    if pages > 200:\n",
        "        print(title)\n"
      ]
    },
    {
      "cell_type": "markdown",
      "id": "DTw2a77lqOL1",
      "metadata": {
        "id": "DTw2a77lqOL1"
      },
      "source": [
        "Exercise 8: Print each student's name and number of registered courses.\n"
      ]
    },
    {
      "cell_type": "code",
      "execution_count": 7,
      "id": "hFURuXPTqL8Y",
      "metadata": {
        "id": "hFURuXPTqL8Y"
      },
      "outputs": [
        {
          "name": "stdout",
          "output_type": "stream",
          "text": [
            "Ali is enrolled in 2 courses\n",
            "Sara is enrolled in 2 courses\n",
            "Reza is enrolled in 2 courses\n",
            "Lina is enrolled in 2 courses\n",
            "Omid is enrolled in 1 courses\n"
          ]
        }
      ],
      "source": [
        "courses = {\n",
        "    'Ali': ['Python', 'Math'],\n",
        "    'Sara': ['Biology', 'Chemistry'],\n",
        "    'Reza': ['Python', 'AI'],\n",
        "    'Lina': ['English', 'History'],\n",
        "    'Omid': ['Python']\n",
        "}\n",
        "\n",
        "# Write your code here:\n",
        "for student, course_list in courses.items():\n",
        "    print(f\"{student} is enrolled in {len(course_list)} courses\")\n",
        "\n"
      ]
    },
    {
      "cell_type": "markdown",
      "id": "3lHxe4qMqLm1",
      "metadata": {
        "id": "3lHxe4qMqLm1"
      },
      "source": []
    }
  ],
  "metadata": {
    "colab": {
      "provenance": []
    },
    "kernelspec": {
      "display_name": "data_science",
      "language": "python",
      "name": "python3"
    },
    "language_info": {
      "codemirror_mode": {
        "name": "ipython",
        "version": 3
      },
      "file_extension": ".py",
      "mimetype": "text/x-python",
      "name": "python",
      "nbconvert_exporter": "python",
      "pygments_lexer": "ipython3",
      "version": "3.13.6"
    }
  },
  "nbformat": 4,
  "nbformat_minor": 5
}
