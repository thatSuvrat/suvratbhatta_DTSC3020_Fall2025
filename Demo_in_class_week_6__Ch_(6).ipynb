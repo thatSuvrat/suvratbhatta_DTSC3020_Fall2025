{
  "cells": [
    {
      "cell_type": "markdown",
      "id": "9269f590",
      "metadata": {
        "id": "9269f590"
      },
      "source": [
        "# Introduction to Dictionaries in Python\n",
        "\n",
        "---\n",
        "\n",
        "### What is a Dictionary?\n",
        "\n",
        "A dictionary is a built-in Python data type that stores data in key–value pairs.\n",
        "\n",
        "---\n",
        "\n",
        "### Why Do We Use Dictionaries?\n",
        "\n",
        "Dictionaries help us:\n",
        "- Represent table-like data in a structured way.\n",
        "- Access specific information quickly using keys.\n",
        "- Store related data together in a meaningful format.\n",
        "\n",
        "---\n",
        "\n",
        "###  Rule: Keys Must Be Unique\n",
        "\n",
        "- The key must be unique (e.g., string, number).\n",
        "- The value can be:\n",
        "  - a single value (e.g., number, string)\n",
        "  - a list of values\n",
        "  - another dictionary (nested structure)\n"
      ]
    },
    {
      "cell_type": "markdown",
      "id": "bc69de7c",
      "metadata": {
        "id": "bc69de7c"
      },
      "source": [
        "###  Example 1: Table with Single Values (Names and Grades)\n",
        "\n",
        "| Student | Grade |\n",
        "|---------|-------|\n",
        "| Anna    | 90    |\n",
        "| John    | 85    |\n",
        "| Sara    | 95    |\n"
      ]
    },
    {
      "cell_type": "code",
      "execution_count": null,
      "id": "_vMsXyob1VKY",
      "metadata": {
        "id": "_vMsXyob1VKY"
      },
      "outputs": [],
      "source": [
        "student_grades = { \"Anna\": 90, \"John\": 85, \"Sara\": 95}\n",
        "student_grades"
      ]
    },
    {
      "cell_type": "markdown",
      "id": "63ff0086",
      "metadata": {
        "id": "63ff0086"
      },
      "source": [
        "### Example 2: Table with List as Value (Students and Their Courses)\n",
        "\n",
        "| Student | Courses              |\n",
        "|---------|----------------------|\n",
        "| Anna    | [“Math”, “Biology”]  |\n",
        "| John    | [“English”, “History”] |\n",
        "| Sara    | [“Physics”, “Chemistry”] |\n"
      ]
    },
    {
      "cell_type": "code",
      "execution_count": null,
      "id": "4BoaZ4Lm0l5m",
      "metadata": {
        "id": "4BoaZ4Lm0l5m"
      },
      "outputs": [],
      "source": [
        "student_courses = {\n",
        "    \"Anna\": [\"Math\", \"Biology\"],\n",
        "    \"John\": [\"English\", \"History\"],\n",
        "    \"Sara\": [\"Physics\", \"Chemistry\"]\n",
        "}\n",
        "student_courses"
      ]
    },
    {
      "cell_type": "markdown",
      "id": "08fa5e5f",
      "metadata": {
        "id": "08fa5e5f"
      },
      "source": [
        "### Example 3: Table with Dictionary as Value (Books Info)\n",
        "\n",
        "| Book    | Info                           |\n",
        "|---------|--------------------------------|\n",
        "| Book A  | {“pages”: 200, “available”: True}  |\n",
        "| Book B  | {“pages”: 150, “available”: False} |\n",
        "| Book C  | {“pages”: 300, “available”: True}  |\n"
      ]
    },
    {
      "cell_type": "code",
      "execution_count": null,
      "id": "bcAlqJFy0wZr",
      "metadata": {
        "id": "bcAlqJFy0wZr"
      },
      "outputs": [],
      "source": [
        "books_info = {\n",
        "    \"Book A\": {\"pages\": 200, \"available\": True},\n",
        "    \"Book B\": {\"pages\": 150, \"available\": False},\n",
        "    \"Book C\": {\"pages\": 300, \"available\": True}\n",
        "}\n",
        "books_info"
      ]
    },
    {
      "cell_type": "code",
      "execution_count": null,
      "id": "c05783b3",
      "metadata": {
        "id": "c05783b3"
      },
      "outputs": [],
      "source": [
        "student_grades = {\n",
        "    \"Anna\": 90,\n",
        "    \"John\": 85,\n",
        "    \"Sara\": 95\n",
        "}"
      ]
    },
    {
      "cell_type": "markdown",
      "id": "hgFoaSxeWzsC",
      "metadata": {
        "id": "hgFoaSxeWzsC"
      },
      "source": [
        "Accessing Data in Dictionaries"
      ]
    },
    {
      "cell_type": "code",
      "execution_count": 12,
      "id": "r19Hhk1B2kso",
      "metadata": {
        "colab": {
          "base_uri": "https://localhost:8080/"
        },
        "id": "r19Hhk1B2kso",
        "outputId": "13b190bb-2b1f-46ae-ffbe-5a2ee2e1d894"
      },
      "outputs": [
        {
          "name": "stdout",
          "output_type": "stream",
          "text": [
            "90\n"
          ]
        }
      ],
      "source": [
        "# Direct Access with [ ]\n",
        "# dictionary_name[\"key\"]\n",
        "\n",
        "student_grades = {\n",
        "    \"Anna\": 90,\n",
        "    \"John\": 85,\n",
        "    \"Sara\": 95\n",
        "}\n",
        "\n",
        "print(student_grades[\"Anna\"])\n"
      ]
    },
    {
      "cell_type": "code",
      "execution_count": 13,
      "id": "-3yuaA0X155M",
      "metadata": {
        "colab": {
          "base_uri": "https://localhost:8080/"
        },
        "id": "-3yuaA0X155M",
        "outputId": "b45ca661-4900-46e3-b21c-91e95c777bf8"
      },
      "outputs": [
        {
          "name": "stdout",
          "output_type": "stream",
          "text": [
            "None\n"
          ]
        }
      ],
      "source": [
        "# Safe access with .get(\" \")\n",
        "\n",
        "\n",
        "student_grades = {\n",
        "    \"Anna\": 90,\n",
        "    \"John\": 85,\n",
        "    \"Sara\": 95\n",
        "}\n",
        "print(student_grades.get(\"Mike\"))  # Returns None"
      ]
    },
    {
      "cell_type": "code",
      "execution_count": 14,
      "id": "DA_Ddz9k15sN",
      "metadata": {
        "colab": {
          "base_uri": "https://localhost:8080/"
        },
        "id": "DA_Ddz9k15sN",
        "outputId": "cf63868f-5f41-4973-fbe9-f06f1d16f22f"
      },
      "outputs": [
        {
          "name": "stdout",
          "output_type": "stream",
          "text": [
            "True\n",
            "False\n"
          ]
        }
      ],
      "source": [
        "# Check if a key exists using in\n",
        "# in\n",
        "student_grades = {\n",
        "    \"Anna\": 90,\n",
        "    \"John\": 85,\n",
        "    \"Sara\": 95\n",
        "}\n",
        "\n",
        "print(\"Sara\" in student_grades)\n",
        "print(\"Mike\" in student_grades)"
      ]
    },
    {
      "cell_type": "markdown",
      "id": "oZvUUK1y2tUp",
      "metadata": {
        "id": "oZvUUK1y2tUp"
      },
      "source": [
        " Methods"
      ]
    },
    {
      "cell_type": "code",
      "execution_count": 15,
      "id": "1-LiHrY-15kU",
      "metadata": {
        "colab": {
          "base_uri": "https://localhost:8080/"
        },
        "id": "1-LiHrY-15kU",
        "outputId": "672031bb-2e8a-4320-af15-aaddb81a5ab0"
      },
      "outputs": [
        {
          "name": "stdout",
          "output_type": "stream",
          "text": [
            "dict_keys(['Anna', 'John', 'Sara'])\n"
          ]
        }
      ],
      "source": [
        "# .keys() Returns a list-like view of all the keys in the dictionary.\n",
        "\n",
        "\n",
        "student_grades = {\n",
        "    \"Anna\": 90,\n",
        "    \"John\": 85,\n",
        "    \"Sara\": 95\n",
        "}\n",
        "\n",
        "print(student_grades.keys())"
      ]
    },
    {
      "cell_type": "code",
      "execution_count": 16,
      "id": "8FPlVPTS15ao",
      "metadata": {
        "colab": {
          "base_uri": "https://localhost:8080/"
        },
        "id": "8FPlVPTS15ao",
        "outputId": "d9c35b71-14e8-4017-d016-d0e5a9dd24f0"
      },
      "outputs": [
        {
          "name": "stdout",
          "output_type": "stream",
          "text": [
            "dict_values([90, 85, 95])\n"
          ]
        }
      ],
      "source": [
        "# .values() Returns a list-like view of all the values in the dictionary.\n",
        "\n",
        "student_grades = {\n",
        "    \"Anna\": 90,\n",
        "    \"John\": 85,\n",
        "    \"Sara\": 95\n",
        "}\n",
        "\n",
        "print(student_grades.values())"
      ]
    },
    {
      "cell_type": "code",
      "execution_count": 17,
      "id": "CvW5gR_T15R_",
      "metadata": {
        "colab": {
          "base_uri": "https://localhost:8080/"
        },
        "id": "CvW5gR_T15R_",
        "outputId": "bea629b2-8908-48bc-e3e9-6ca629550664"
      },
      "outputs": [
        {
          "name": "stdout",
          "output_type": "stream",
          "text": [
            "dict_items([('Anna', 90), ('John', 85), ('Sara', 95)])\n"
          ]
        }
      ],
      "source": [
        "# .items() Returns all (key, value) pairs in the dictionary as tuples.\n",
        "\n",
        "student_grades = {\n",
        "    \"Anna\": 90,\n",
        "    \"John\": 85,\n",
        "    \"Sara\": 95\n",
        "}\n",
        "\n",
        "print(student_grades.items())"
      ]
    },
    {
      "cell_type": "markdown",
      "id": "WFkL-hF42bub",
      "metadata": {
        "id": "WFkL-hF42bub"
      },
      "source": [
        " Add / Update"
      ]
    },
    {
      "cell_type": "code",
      "execution_count": 18,
      "id": "GmDNDO-v2NDI",
      "metadata": {
        "colab": {
          "base_uri": "https://localhost:8080/"
        },
        "id": "GmDNDO-v2NDI",
        "outputId": "56295108-7dfc-4be1-cfd9-81a016221d56"
      },
      "outputs": [
        {
          "name": "stdout",
          "output_type": "stream",
          "text": [
            "{'Anna': 90, 'John': 85, 'Sara': 97, 'Mike': 88}\n"
          ]
        }
      ],
      "source": [
        "# Updating a value using brackets with the key\n",
        "\n",
        "student_grades = {\n",
        "    \"Anna\": 90,\n",
        "    \"John\": 85,\n",
        "    \"Sara\": 95\n",
        "}\n",
        "\n",
        "student_grades[\"Sara\"] = 97\n",
        "student_grades[\"Mike\"] = 88\n",
        "\n",
        "print(student_grades)"
      ]
    },
    {
      "cell_type": "code",
      "execution_count": 19,
      "id": "Ihy8ZaBo2M8H",
      "metadata": {
        "colab": {
          "base_uri": "https://localhost:8080/"
        },
        "id": "Ihy8ZaBo2M8H",
        "outputId": "4136f589-c7a3-4084-9f9e-f6da91560d56"
      },
      "outputs": [
        {
          "name": "stdout",
          "output_type": "stream",
          "text": [
            "{'Anna': 90, 'John': 85}\n"
          ]
        }
      ],
      "source": [
        "#  We can remove item using del\n",
        "\n",
        "student_grades = {\n",
        "    \"Anna\": 90,\n",
        "    \"John\": 85,\n",
        "    \"Sara\": 95\n",
        "}\n",
        "\n",
        "del student_grades[\"Sara\"]\n",
        "print(student_grades)\n"
      ]
    },
    {
      "cell_type": "markdown",
      "id": "7e46e664",
      "metadata": {
        "id": "7e46e664"
      },
      "source": [
        "#  Part 2 – Practice Exercises\n",
        "\n",
        "---\n",
        "\n",
        "### ✅ Exercise 1: High Grades (using key-value)\n",
        "Write a Python program that defines a dictionary of students and their grades. Print the names and grades of only those students who scored more than 18.\n"
      ]
    },
    {
      "cell_type": "code",
      "execution_count": 20,
      "id": "a48d998b",
      "metadata": {
        "colab": {
          "base_uri": "https://localhost:8080/"
        },
        "id": "a48d998b",
        "outputId": "65668275-1ad5-4c76-b29c-cce07443fabf"
      },
      "outputs": [
        {
          "name": "stdout",
          "output_type": "stream",
          "text": [
            "Ali 19\n",
            "Reza 20\n",
            "Omid 18.5\n"
          ]
        }
      ],
      "source": [
        "grades = {\n",
        "    'Ali': 19,\n",
        "    'Sara': 17,\n",
        "    'Reza': 20,\n",
        "    'Lina': 15,\n",
        "    'Omid': 18.5\n",
        "}\n",
        "\n",
        "\n",
        "\n",
        "for key, value in grades.items():\n",
        "    if value > 18:\n",
        "        print(key, value)\n"
      ]
    },
    {
      "cell_type": "markdown",
      "id": "4ac4bbec",
      "metadata": {
        "id": "4ac4bbec"
      },
      "source": [
        "---\n",
        "\n",
        "### ✅ Exercise 2: Registered for Python Course (using key-value)\n",
        "You are given a dictionary where each key is a student and the value is a list of courses they registered for. Print the names of students who registered for ‘Python’.\n"
      ]
    },
    {
      "cell_type": "code",
      "execution_count": 3,
      "id": "140f37b7",
      "metadata": {
        "colab": {
          "base_uri": "https://localhost:8080/"
        },
        "id": "140f37b7",
        "outputId": "87e218fe-a677-408a-f514-fd4f0f501dd7"
      },
      "outputs": [
        {
          "name": "stdout",
          "output_type": "stream",
          "text": [
            "Ali\n",
            "Reza\n"
          ]
        }
      ],
      "source": [
        "courses = {\n",
        "    'Ali': ['Python', 'Math'],\n",
        "    'Sara': ['Biology', 'Chemistry'],\n",
        "    'Reza': ['Python', 'AI'],\n",
        "    'Lina': ['English', 'History']\n",
        "}\n",
        "\n",
        "for key, value in courses.items():\n",
        "    if 'Python' in value:\n",
        "        print(key)\n"
      ]
    },
    {
      "cell_type": "markdown",
      "id": "757a7b5c",
      "metadata": {
        "id": "757a7b5c"
      },
      "source": [
        "---\n",
        "\n",
        "### ✅ Exercise 3: Filter Library Books (using key-value)\n",
        "You are given a dictionary of books. Each book has a sub-dictionary with the number of pages and a (true or false) indicating if it is available. Print the titles of books that are available and have more than 150 pages.\n"
      ]
    },
    {
      "cell_type": "code",
      "execution_count": 5,
      "id": "a244b836",
      "metadata": {
        "colab": {
          "base_uri": "https://localhost:8080/"
        },
        "id": "a244b836",
        "outputId": "fb6a4e1b-d91c-400d-89d3-d7f9e953a3d1"
      },
      "outputs": [
        {
          "name": "stdout",
          "output_type": "stream",
          "text": [
            "Python101\n",
            "Statistics\n"
          ]
        }
      ],
      "source": [
        "library = {\n",
        "    'Python101': {'pages': 180, 'available': True},\n",
        "    'AI Basics': {'pages': 130, 'available': True},\n",
        "    'Math Advanced': {'pages': 200, 'available': False},\n",
        "    'Statistics': {'pages': 175, 'available': True}\n",
        "}\n",
        "\n",
        "\n",
        "\n",
        "for key, value in library.items():\n",
        "    if value['available'] and value['pages'] > 150:\n",
        "        print(key)\n"
      ]
    },
    {
      "cell_type": "markdown",
      "id": "da40bc66",
      "metadata": {
        "id": "da40bc66"
      },
      "source": [
        "---\n",
        "\n",
        "### ✅ Exercise 4: Highest Grade (using key-value)\n",
        "Given a dictionary of student grades, write a Python program that finds and prints the name of the student with the highest grade.\n"
      ]
    },
    {
      "cell_type": "code",
      "execution_count": null,
      "id": "c4a14d29",
      "metadata": {
        "id": "c4a14d29"
      },
      "outputs": [],
      "source": [
        "grades = {\n",
        "    'Ali': 17,\n",
        "    'Sara': 19,\n",
        "    'Reza': 18.5,\n",
        "    'Lina': 20\n",
        "}\n",
        "\n",
        "highest = max(grades.values())\n",
        "\n",
        "for key, value in grades.items():\n",
        "    if value == highest:\n",
        "        print(key)\n"
      ]
    },
    {
      "cell_type": "markdown",
      "id": "sOda0gU393PD",
      "metadata": {
        "id": "sOda0gU393PD"
      },
      "source": [
        "### ✅ Exercise 5 : using set()\n",
        "\n",
        "\n",
        "You are given a dictionary of students and their grades.\n",
        "Some students may have the same grade.\n",
        "\n",
        "we want to write a program that prints only the unique grades using set().\n"
      ]
    },
    {
      "cell_type": "code",
      "execution_count": 21,
      "id": "Z-rEyWtA-GYv",
      "metadata": {
        "colab": {
          "base_uri": "https://localhost:8080/"
        },
        "id": "Z-rEyWtA-GYv",
        "outputId": "33f09d4f-23e2-42a0-b49d-2b82842b67c5"
      },
      "outputs": [
        {
          "name": "stdout",
          "output_type": "stream",
          "text": [
            "dict_values([18, 17, 18, 19, 17])\n"
          ]
        }
      ],
      "source": [
        "grades = {\n",
        "    'Ali': 18,\n",
        "    'Sara': 17,\n",
        "    'Reza': 18,\n",
        "    'Lina': 19,\n",
        "    'Omid': 17\n",
        "}\n",
        "\n",
        "print( grades.values())"
      ]
    },
    {
      "cell_type": "code",
      "execution_count": 22,
      "id": "CKEoL9j4_MZK",
      "metadata": {
        "colab": {
          "base_uri": "https://localhost:8080/"
        },
        "id": "CKEoL9j4_MZK",
        "outputId": "ce726ac8-709e-49bd-b501-a264b8a6a566"
      },
      "outputs": [
        {
          "name": "stdout",
          "output_type": "stream",
          "text": [
            "Unique grades: {17, 18, 19}\n"
          ]
        }
      ],
      "source": [
        "grades = {\n",
        "    'Ali': 18,\n",
        "    'Sara': 17,\n",
        "    'Reza': 18,\n",
        "    'Lina': 19,\n",
        "    'Omid': 17\n",
        "}\n",
        "\n",
        "unique_grades = set(grades.values())\n",
        "\n",
        "print(\"Unique grades:\", unique_grades)"
      ]
    },
    {
      "cell_type": "markdown",
      "id": "t1HaPmDO_2Zb",
      "metadata": {
        "id": "t1HaPmDO_2Zb"
      },
      "source": [
        "### ✅ Exercise 6\n",
        "You are given a dictionary that shows how many hours each student studied during the week.\n",
        "\n",
        "Write a program that calculates the total number of hours studied by all students combined."
      ]
    },
    {
      "cell_type": "code",
      "execution_count": 8,
      "id": "ZjQQJtcT_293",
      "metadata": {
        "colab": {
          "base_uri": "https://localhost:8080/"
        },
        "id": "ZjQQJtcT_293",
        "outputId": "f38adaf4-41d0-4bb9-814b-9ff5cf10d455"
      },
      "outputs": [
        {
          "name": "stdout",
          "output_type": "stream",
          "text": [
            "30\n"
          ]
        }
      ],
      "source": [
        "study_hours = {\n",
        "    'Ali': 5,\n",
        "    'Sara': 8,\n",
        "    'Reza': 4,\n",
        "    'Lina': 7,\n",
        "    'Omid': 6\n",
        "}\n",
        "# way 1 using\n",
        "\n",
        "total = 0\n",
        "for key, value in study_hours.items():\n",
        "    total += value #(total= total + value )\n",
        "\n",
        "    # first round => total = 0 + 5 =5\n",
        "    # second round => total = 5 + 8 = 13\n",
        "    # third round => total = 13 + 4 =17\n",
        "    # fourth round => total = 17 + 7 = 24\n",
        "    # fifth round => total = 24 + 6 = 30\n",
        "\n",
        "print(total)"
      ]
    },
    {
      "cell_type": "code",
      "execution_count": 9,
      "id": "-XAJAIZPB4AE",
      "metadata": {
        "colab": {
          "base_uri": "https://localhost:8080/"
        },
        "id": "-XAJAIZPB4AE",
        "outputId": "b719a252-3fcc-4b08-b566-0ccf3f7a8c83"
      },
      "outputs": [
        {
          "name": "stdout",
          "output_type": "stream",
          "text": [
            "30\n"
          ]
        }
      ],
      "source": [
        "# way 2 using sum() and .valus()\n",
        "total = sum(study_hours.values())\n",
        "print(total)"
      ]
    },
    {
      "cell_type": "code",
      "execution_count": 10,
      "id": "u75gtGFaCFaI",
      "metadata": {
        "colab": {
          "base_uri": "https://localhost:8080/"
        },
        "id": "u75gtGFaCFaI",
        "outputId": "4e77ac51-50db-4655-918e-bf882c5f83a8"
      },
      "outputs": [
        {
          "name": "stdout",
          "output_type": "stream",
          "text": [
            "30\n"
          ]
        }
      ],
      "source": [
        "# way 3 using list comprehension\n",
        "total = sum([value for value in study_hours.values()])\n",
        "print(total)"
      ]
    },
    {
      "cell_type": "markdown",
      "id": "MqzRluMAClQX",
      "metadata": {
        "id": "MqzRluMAClQX"
      },
      "source": [
        "if we want to Write a program that calculates the total number of study hours for students who studied more than 2 hours.\n"
      ]
    },
    {
      "cell_type": "code",
      "execution_count": 23,
      "id": "w5KB0x8MCosq",
      "metadata": {
        "colab": {
          "base_uri": "https://localhost:8080/"
        },
        "id": "w5KB0x8MCosq",
        "outputId": "768aa39a-a61a-4d9c-e9c8-ed415372d080"
      },
      "outputs": [
        {
          "name": "stdout",
          "output_type": "stream",
          "text": [
            "Total study hours for students who studied more than 2 hours: 7\n"
          ]
        }
      ],
      "source": [
        "study_hours = {\n",
        "    'Ali': 1,\n",
        "    'Sara': 3,\n",
        "    'Reza': 0,\n",
        "    'Lina': 4,\n",
        "    'Omid': 2\n",
        "}\n",
        "\n",
        "total = sum([value for value in study_hours.values() if value > 2])\n",
        "print(\"Total study hours for students who studied more than 2 hours:\", total)"
      ]
    },
    {
      "cell_type": "markdown",
      "id": "6ce1ce79",
      "metadata": {
        "id": "6ce1ce79"
      },
      "source": [
        "---\n",
        "\n",
        "### ✅ Final Class Exercise: Library Borrowing (using key-value)\n",
        "You are given a dictionary that shows how many books each student has borrowed. Write a Python program to:\n",
        "1.  Print the names of students who borrowed more than 2 books.\n",
        "2. alculate the total number of borrowed books.\n"
      ]
    },
    {
      "cell_type": "code",
      "execution_count": 1,
      "id": "e59d437e",
      "metadata": {
        "id": "e59d437e"
      },
      "outputs": [
        {
          "name": "stdout",
          "output_type": "stream",
          "text": [
            "Sara has borrowed more than two books \n",
            "\n",
            "Lina has borrowed more than two books \n",
            "\n",
            "total number of books: 10\n"
          ]
        }
      ],
      "source": [
        "borrowed_books = {\n",
        "    'Ali': 1,\n",
        "    'Sara': 3,\n",
        "    'Reza': 0,\n",
        "    'Lina': 4,\n",
        "    'Omid': 2\n",
        "}\n",
        "\n",
        "total = 0\n",
        "for key, value in borrowed_books.items():\n",
        "    if value > 2:\n",
        "        print(f\"{key} has borrowed more than two books \\n\")\n",
        "    total += value\n",
        "print(f\"total number of books: {total}\")"
      ]
    },
    {
      "cell_type": "markdown",
      "id": "e1397301",
      "metadata": {
        "id": "e1397301"
      },
      "source": [
        "---\n",
        "\n",
        "##  Assignment Submission Instructions\n",
        "Assignment Instructions\n",
        " 1. Download the Student_In_Class -Assignment_Ch 6  notebook file from Canvas\n",
        " 2. Write your answers for Part 1 and Part 2 directly in the notebook.\n",
        " 3. Save the completed notebook file.\n",
        " 4. Upload the notebook to your GitHub account.\n",
        " 5. Submit the GitHub link.\n",
        "\n",
        " This exercise is worth 1 point."
      ]
    }
  ],
  "metadata": {
    "colab": {
      "provenance": []
    },
    "kernelspec": {
      "display_name": "data_science",
      "language": "python",
      "name": "python3"
    },
    "language_info": {
      "codemirror_mode": {
        "name": "ipython",
        "version": 3
      },
      "file_extension": ".py",
      "mimetype": "text/x-python",
      "name": "python",
      "nbconvert_exporter": "python",
      "pygments_lexer": "ipython3",
      "version": "3.13.6"
    }
  },
  "nbformat": 4,
  "nbformat_minor": 5
}
