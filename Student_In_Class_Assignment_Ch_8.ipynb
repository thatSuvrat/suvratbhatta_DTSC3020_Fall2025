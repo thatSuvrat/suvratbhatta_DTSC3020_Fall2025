{
  "cells": [
    {
      "cell_type": "markdown",
      "metadata": {
        "id": "51gCuC6VJ3gu"
      },
      "source": [
        "##Final Class Exercise"
      ]
    },
    {
      "cell_type": "markdown",
      "metadata": {
        "id": "7pxJ6i3jH7Yq"
      },
      "source": [
        "Write a Python function create_email(full_name) that builds a UNT email in the format\n",
        "firstname.lastname@my.unt.edu.\n",
        "\n",
        "Rules\n",
        "\n",
        " • Use the first and last word from full_name (case-insensitive).\n",
        "\n",
        " • Convert everything to lowercase.\n",
        "\n",
        " • If there is only one word, use it twice (e.g., \"ali\" → ali.ali@my.unt.edu).\n",
        "\n",
        " • Return the email string.\n",
        "\n",
        "\n",
        "Constraints\n",
        "\n",
        " • Use a function and return.\n",
        "\n",
        " • Do not use input() or external libraries.\n",
        "\n",
        "\n",
        " test your code with this list\n",
        " names = [\n",
        "    \"Sara Amini\",\n",
        "    \"Ali\",\n",
        "    \"Mary Jane\",\n",
        "    \"  John   Smith  \",\n",
        "    \"LINA\",\n",
        "    \"madonna\",\n",
        "    \"  sara   amini  \"\n",
        "]"
      ]
    },
    {
      "cell_type": "code",
      "execution_count": null,
      "metadata": {
        "id": "6jcH9Qm_IXWh"
      },
      "outputs": [
        {
          "name": "stdout",
          "output_type": "stream",
          "text": [
            "sara.amini@my.unt.edu\n",
            "ali.ali@my.unt.edu\n",
            "mary.jane@my.unt.edu\n",
            "john.smith@my.unt.edu\n",
            "lina.lina@my.unt.edu\n",
            "madonna.madonna@my.unt.edu\n",
            "sara.amini@my.unt.edu\n"
          ]
        }
      ],
      "source": [
        "# Write your solution here.\n",
        "\n",
        "def email_generator(name):\n",
        "    name = name.lower()\n",
        "    if \" \" in name:\n",
        "        email = name.replace(\" \", \".\") + \"@my.unt.edu\"\n",
        "        return email\n",
        "    else:\n",
        "        email = name + \".\" + name + \"@my.unt.edu\"\n",
        "        return email\n",
        "\n",
        "names = [\n",
        "    \"Sara Amini\",\n",
        "    \"Ali\",\n",
        "    \"Mary Jane\",\n",
        "    \"John Smith\",\n",
        "    \"LINA\",\n",
        "    \"madonna\",\n",
        "    \"sara amini\",\n",
        "]\n",
        "\n",
        "for name in names:\n",
        "    print(email_generator(name))"
      ]
    },
    {
      "cell_type": "code",
      "execution_count": 14,
      "metadata": {},
      "outputs": [
        {
          "name": "stdout",
          "output_type": "stream",
          "text": [
            "sara.amini@my.unt.edu\n",
            "ali.ali@my.unt.edu\n",
            "mary.jane@my.unt.edu\n",
            "john.smith@my.unt.edu\n",
            "lina.lina@my.unt.edu\n",
            "madonna.madonna@my.unt.edu\n",
            "sara.amini@my.unt.edu\n"
          ]
        }
      ],
      "source": [
        "def email_generator2(name):\n",
        "    words = name.lower().split()\n",
        "    if len(words) == 1:\n",
        "        email = words[0] + \".\" + words[0] + \"@my.unt.edu\"\n",
        "    else:\n",
        "        email = \".\".join(words) + \"@my.unt.edu\"\n",
        "    return email\n",
        "\n",
        "names = [\n",
        "    \"Sara Amini\",\n",
        "    \"Ali\",\n",
        "    \"Mary Jane\",\n",
        "    \"John Smith\",\n",
        "    \"LINA\",\n",
        "    \"madonna\",\n",
        "    \"sara amini\",\n",
        "]\n",
        "\n",
        "for name in names:\n",
        "    print(email_generator(name))"
      ]
    }
  ],
  "metadata": {
    "colab": {
      "provenance": []
    },
    "kernelspec": {
      "display_name": "data_science",
      "language": "python",
      "name": "python3"
    },
    "language_info": {
      "codemirror_mode": {
        "name": "ipython",
        "version": 3
      },
      "file_extension": ".py",
      "mimetype": "text/x-python",
      "name": "python",
      "nbconvert_exporter": "python",
      "pygments_lexer": "ipython3",
      "version": "3.13.6"
    }
  },
  "nbformat": 4,
  "nbformat_minor": 0
}
