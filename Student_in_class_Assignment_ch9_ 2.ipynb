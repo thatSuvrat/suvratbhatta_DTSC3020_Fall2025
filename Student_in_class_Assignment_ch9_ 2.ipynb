{
  "cells": [
    {
      "cell_type": "markdown",
      "metadata": {
        "id": "vW98iSj6mCjt"
      },
      "source": [
        "create a class called InventoryItem that represents a single product in stock — for example, an apple in a grocery store. The class keeps track of the product’s name, price, quantity, and minimum stock level (the level where we might need to reorder).\n",
        "\n",
        "......\n",
        "\n",
        "When you store the attributes, convert types as follows:\n",
        "\n",
        "• name → str(name)\n",
        "\n",
        "• price → float(price)\n",
        "\n",
        "• quantity → int(quantity) (default 0)\n",
        "\n",
        "• min_stock → int(min_stock) (default 0)\n",
        "\n",
        "Validation:\n",
        "\n",
        "• If any of price, quantity, or min_stock is negative, raise ValueError with a clear message.\n",
        "\n",
        "......\n",
        "\n",
        "Methods to implement\n",
        "\n",
        "restock(self, qty)\n",
        "• If qty is negative, raise ValueError.\n",
        "\n",
        "• Otherwise, increase quantity by qty.\n",
        "\n",
        "sell(self, qty)\n",
        "• If qty is not positive (≤ 0), raise ValueError.\n",
        "\n",
        "• If there is enough stock (self.quantity >= qty), decrease quantity by qty and return True.\n",
        "\n",
        "• Otherwise, return False (do not change quantity).\n",
        "\n",
        "value(self)\n",
        "• Return the total value of this item in stock:\n",
        "\n",
        "price * quantity (a float).\n",
        "\n",
        "repr(self)\n",
        "Provide a readable text description of the object when printed.\n",
        "\n",
        "return (f\"InventoryItem(name={self.name}, price={self.price}, \" f\"qty={self.quantity}, min_stock={self.min_stock})\")\n",
        "\n",
        "........\n",
        "\n",
        "• Return a developer-friendly string that shows all fields, for example: InventoryItem(name='Apple', price=0.5, quantity=3, min_stock=1)"
      ]
    },
    {
      "cell_type": "code",
      "execution_count": 2,
      "metadata": {
        "id": "Hayuin-1lkgP"
      },
      "outputs": [
        {
          "name": "stdout",
          "output_type": "stream",
          "text": [
            "InventoryItem(name=Apple, price=0.5, quantity=3, min_stock=1)\n",
            "1.5\n"
          ]
        }
      ],
      "source": [
        "class InventoryItem:\n",
        "    def __init__(self, name, price, quantity=0, min_stock=0):\n",
        "        self.name = str(name)\n",
        "        self.price = float(price)\n",
        "        self.quantity = int(quantity)\n",
        "        self.min_stock = int(min_stock)\n",
        "        if self.price < 0:\n",
        "            raise ValueError(\"Price cannot be negative.\")\n",
        "        if self.quantity < 0:\n",
        "            raise ValueError(\"Quantity cannot be negative.\")\n",
        "        if self.min_stock < 0:\n",
        "            raise ValueError(\"Minimum stock cannot be negative.\")\n",
        "    \n",
        "    def restock(self, qty):\n",
        "        if qty < 0:\n",
        "            raise ValueError(\"Restock quantity cannot be negative.\")\n",
        "        self.quantity += qty\n",
        "\n",
        "    def sell(self, qty):\n",
        "        if qty < 0:\n",
        "            raise ValueError(\"Sell quantity cannot be negative.\")\n",
        "        if qty > self.quantity:\n",
        "            return False\n",
        "        else:\n",
        "            self.quantity -= qty\n",
        "            return True\n",
        "    \n",
        "    def value(self):\n",
        "        return float(self.price * self.quantity)\n",
        "    \n",
        "    def repr(self):\n",
        "        return f\"InventoryItem(name={self.name}, price={self.price}, quantity={self.quantity}, min_stock={self.min_stock})\"\n",
        "    \n",
        "        \n",
        "item1 = InventoryItem(name='Apple', price=0.5, quantity=3, min_stock=1)\n",
        "print(item1.repr())\n",
        "print(item1.value())"
      ]
    },
    {
      "cell_type": "code",
      "execution_count": null,
      "metadata": {},
      "outputs": [],
      "source": []
    }
  ],
  "metadata": {
    "colab": {
      "provenance": []
    },
    "kernelspec": {
      "display_name": "base",
      "language": "python",
      "name": "python3"
    },
    "language_info": {
      "codemirror_mode": {
        "name": "ipython",
        "version": 3
      },
      "file_extension": ".py",
      "mimetype": "text/x-python",
      "name": "python",
      "nbconvert_exporter": "python",
      "pygments_lexer": "ipython3",
      "version": "3.12.7"
    }
  },
  "nbformat": 4,
  "nbformat_minor": 0
}
