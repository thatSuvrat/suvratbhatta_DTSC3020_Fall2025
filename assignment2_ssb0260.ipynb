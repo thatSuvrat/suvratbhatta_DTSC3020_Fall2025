{
 "cells": [
  {
   "cell_type": "markdown",
   "id": "78fe06e0",
   "metadata": {},
   "source": [
    "Instructions:\n",
    "Write Python code to solve each exercise.\n",
    "\n",
    "Make sure your code runs without errors and shows the correct output.\n",
    "\n",
    "Submit your GitHub link.\n",
    "\n",
    " \n",
    "\n",
    "1. \n",
    "\n",
    "Create a list with 3 fruits (for example: apple, banana, orange).\n",
    " • Print the entire list.\n",
    " • Print each item separately.\n",
    "\n",
    " \n",
    "\n",
    "2. \n",
    "\n",
    "Create a list with 4 names.\n",
    " • Change the first name to a different one.\n",
    " • Print the new list.\n",
    "\n",
    " \n",
    "\n",
    "3. \n",
    "\n",
    "Create a list with 5 vehicles (for example: car, bus, bike).\n",
    " • Add one more vehicle to the end of the list.\n",
    " • Print the list.\n",
    "\n",
    " \n",
    "\n",
    "4. \n",
    "\n",
    "Create a list with 6 foods.\n",
    " • Remove one food from the list.\n",
    " • Print the new list.\n",
    "\n",
    " \n",
    "\n",
    "5. \n",
    "\n",
    "Create a list with 4 cities.\n",
    " • Sort the list in alphabetical order.\n",
    " • Reverse the list.\n",
    "\n",
    " \n",
    "\n",
    "6. \n",
    "\n",
    "• Create a list with 3 animals.\n",
    " • Use a for loop to print each animal.\n",
    "\n",
    " \n",
    "\n",
    "7. \n",
    "\n",
    " • Create a list with numbers from 1 to 5.\n",
    " • Use a for loop to print each number multiplied by 2.\n",
    "\n",
    " \n",
    "\n",
    "8.\n",
    "\n",
    "Create a list with 6 friends.\n",
    " • Print the first three friends.\n",
    " • Print the last three friends.\n",
    "\n",
    " \n",
    "\n",
    "9. \n",
    "\n",
    "Use range() to create a list with numbers from 1 to 10.\n",
    " • Print the list.\n",
    "\n",
    " \n",
    "\n",
    "10.\n",
    "\n",
    " • Use list comprehension to create a list with the squares of numbers from 1 to 5.\n",
    " • Print the list."
   ]
  },
  {
   "cell_type": "markdown",
   "id": "d58800f3",
   "metadata": {},
   "source": [
    "# 1"
   ]
  },
  {
   "cell_type": "code",
   "execution_count": 1,
   "id": "32e77739",
   "metadata": {},
   "outputs": [],
   "source": [
    "basket = ['apple', 'banana', 'cherry']"
   ]
  },
  {
   "cell_type": "code",
   "execution_count": 2,
   "id": "cdbf8908",
   "metadata": {},
   "outputs": [
    {
     "name": "stdout",
     "output_type": "stream",
     "text": [
      "['apple', 'banana', 'cherry']\n"
     ]
    }
   ],
   "source": [
    "print(basket)"
   ]
  },
  {
   "cell_type": "code",
   "execution_count": 3,
   "id": "ff6a09e8",
   "metadata": {},
   "outputs": [
    {
     "name": "stdout",
     "output_type": "stream",
     "text": [
      "apple\n",
      "banana\n",
      "cherry\n"
     ]
    }
   ],
   "source": [
    "for fruit in basket:\n",
    "    print(fruit)"
   ]
  },
  {
   "cell_type": "markdown",
   "id": "ff4bac78",
   "metadata": {},
   "source": [
    "# 2"
   ]
  },
  {
   "cell_type": "code",
   "execution_count": 4,
   "id": "10eacd4a",
   "metadata": {},
   "outputs": [],
   "source": [
    "names = ['Alice', 'Bob', 'Charlie', 'David']"
   ]
  },
  {
   "cell_type": "code",
   "execution_count": 5,
   "id": "e9a7df6a",
   "metadata": {},
   "outputs": [
    {
     "name": "stdout",
     "output_type": "stream",
     "text": [
      "['Ann', 'Bob', 'Charlie', 'David']\n"
     ]
    }
   ],
   "source": [
    "names[0] = 'Ann'\n",
    "print(names)"
   ]
  },
  {
   "cell_type": "markdown",
   "id": "8788f4e4",
   "metadata": {},
   "source": [
    "# 3"
   ]
  },
  {
   "cell_type": "code",
   "execution_count": null,
   "id": "41d2cdf3",
   "metadata": {},
   "outputs": [
    {
     "name": "stdout",
     "output_type": "stream",
     "text": [
      "['car', 'bike', 'bus', 'truck', 'scooter', 'van']\n"
     ]
    }
   ],
   "source": [
    "vehicles = ['car', 'bike', 'bus', 'truck', 'scooter']\n",
    "vehicles.append('van')\n",
    "print(vehicles)"
   ]
  },
  {
   "cell_type": "markdown",
   "id": "3f61cd64",
   "metadata": {},
   "source": [
    "# 4"
   ]
  },
  {
   "cell_type": "code",
   "execution_count": 9,
   "id": "fe233742",
   "metadata": {},
   "outputs": [
    {
     "name": "stdout",
     "output_type": "stream",
     "text": [
      "['bread', 'milk', 'eggs', 'cheese']\n"
     ]
    }
   ],
   "source": [
    "food_items = ['bread', 'milk', 'eggs', 'cheese', 'butter']\n",
    "food_items.pop()\n",
    "print(food_items)"
   ]
  },
  {
   "cell_type": "markdown",
   "id": "4d1b4a67",
   "metadata": {},
   "source": [
    "# 5"
   ]
  },
  {
   "cell_type": "code",
   "execution_count": 10,
   "id": "6f272a32",
   "metadata": {},
   "outputs": [
    {
     "name": "stdout",
     "output_type": "stream",
     "text": [
      "['Chicago', 'Houston', 'Los Angeles', 'New York']\n"
     ]
    }
   ],
   "source": [
    "cities = ['New York', 'Los Angeles', 'Chicago', 'Houston']\n",
    "cities.sort()\n",
    "print(cities)"
   ]
  },
  {
   "cell_type": "markdown",
   "id": "6b6d946c",
   "metadata": {},
   "source": [
    "# 6"
   ]
  },
  {
   "cell_type": "code",
   "execution_count": 11,
   "id": "637a92b6",
   "metadata": {},
   "outputs": [
    {
     "name": "stdout",
     "output_type": "stream",
     "text": [
      "dog\n",
      "cat\n",
      "elephant\n"
     ]
    }
   ],
   "source": [
    "animals = ['dog', 'cat', 'elephant']\n",
    "for animal in animals:\n",
    "    print(animal)"
   ]
  },
  {
   "cell_type": "markdown",
   "id": "675ffa36",
   "metadata": {},
   "source": [
    "# 7 "
   ]
  },
  {
   "cell_type": "code",
   "execution_count": 14,
   "id": "51a3b6ba",
   "metadata": {},
   "outputs": [
    {
     "name": "stdout",
     "output_type": "stream",
     "text": [
      "2\n",
      "4\n",
      "6\n",
      "8\n",
      "10\n"
     ]
    }
   ],
   "source": [
    "list = range(1,6)\n",
    "\n",
    "for num in list:\n",
    "    print(num*2)"
   ]
  },
  {
   "cell_type": "markdown",
   "id": "4961c85e",
   "metadata": {},
   "source": [
    "# 8"
   ]
  },
  {
   "cell_type": "code",
   "execution_count": 20,
   "id": "baa1395f",
   "metadata": {},
   "outputs": [
    {
     "name": "stdout",
     "output_type": "stream",
     "text": [
      "['Bob', 'Charlie', 'David']\n",
      "['David', 'Eve', 'Frank']\n"
     ]
    }
   ],
   "source": [
    "names = ['Alice', 'Bob', 'Charlie', 'David', 'Eve', 'Frank']\n",
    "\n",
    "print(names[1:4])\n",
    "print(names[3:])"
   ]
  },
  {
   "cell_type": "markdown",
   "id": "cec5b640",
   "metadata": {},
   "source": [
    "# 9"
   ]
  },
  {
   "cell_type": "code",
   "execution_count": null,
   "id": "e37c6f07",
   "metadata": {},
   "outputs": [],
   "source": [
    "list = range(1,11)\n",
    "print(list)"
   ]
  },
  {
   "cell_type": "markdown",
   "id": "f2f3eac5",
   "metadata": {},
   "source": [
    "# 10"
   ]
  },
  {
   "cell_type": "code",
   "execution_count": 22,
   "id": "c295f0e0",
   "metadata": {},
   "outputs": [
    {
     "name": "stdout",
     "output_type": "stream",
     "text": [
      "[1, 4, 9, 16, 25]\n"
     ]
    }
   ],
   "source": [
    "squares = [x**2 for x in range(1, 6)]\n",
    "print(squares)"
   ]
  }
 ],
 "metadata": {
  "kernelspec": {
   "display_name": "data_science",
   "language": "python",
   "name": "python3"
  },
  "language_info": {
   "codemirror_mode": {
    "name": "ipython",
    "version": 3
   },
   "file_extension": ".py",
   "mimetype": "text/x-python",
   "name": "python",
   "nbconvert_exporter": "python",
   "pygments_lexer": "ipython3",
   "version": "3.13.6"
  }
 },
 "nbformat": 4,
 "nbformat_minor": 5
}
