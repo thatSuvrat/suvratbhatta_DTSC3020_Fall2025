{
  "cells": [
    {
      "cell_type": "markdown",
      "id": "nevCG4Qs0b8R",
      "metadata": {
        "id": "nevCG4Qs0b8R"
      },
      "source": [
        "# DTSC 3020 – Assignment 3\n",
        "\n",
        "This exercise focuses on **if statements and conditional logic** in Python and is designed to help students practice decision-making structures.\n",
        "\n",
        "**Total points:** 5  \n",
        "**Deadline:** Friday at midnight  \n",
        "**Submission:** Upload your Python file to your GitHub repository and submit **only your GitHub link**.\n",
        "\n",
        "### Expectations\n",
        "- Write complete answers and run all cells before submission.\n",
        "- Keep the notebook clean (no unnecessary code).\n",
        "\n"
      ]
    },
    {
      "cell_type": "markdown",
      "id": "gfumj0DY0b8f",
      "metadata": {
        "id": "gfumj0DY0b8f"
      },
      "source": [
        "## Question 1 – Movie Ticket System\n",
        "Write a Python code that checks the price of a movie ticket.\n",
        "If the age is between 0 and 11 it is Child, if between 12 and 17 it is Teen, and if 18 or older it is Adult.\n",
        "Print the category and the ticket price (you choose the price).\n",
        "Run the program with age = 16."
      ]
    },
    {
      "cell_type": "code",
      "execution_count": 1,
      "id": "67TGDT6w0b8k",
      "metadata": {
        "id": "67TGDT6w0b8k"
      },
      "outputs": [
        {
          "name": "stdout",
          "output_type": "stream",
          "text": [
            "Teen\n"
          ]
        }
      ],
      "source": [
        "# write your answer here\n",
        "age = int(input(\"enter your age\"))\n",
        "\n",
        "if age <= 11:\n",
        "    print(\"Child\")\n",
        "elif age <=17:\n",
        "    print(\"Teen\")\n",
        "else:\n",
        "    print(\"Adult\")"
      ]
    },
    {
      "cell_type": "markdown",
      "id": "_tUFNVKT0b8r",
      "metadata": {
        "id": "_tUFNVKT0b8r"
      },
      "source": [
        "## Question 2 – Online Store Discount\n",
        "Write a Python code that applies a discount based on the shopping cart total.\n",
        "If the total is less than 50 dollars there is no discount, if the total is between 50 and 99 dollars there is a 10 percent discount, and if the total is 100 dollars or more there is a 20 percent discount.\n",
        "Print the original total, the discount, and the final price.\n",
        "Run the program with cart_total = 85."
      ]
    },
    {
      "cell_type": "code",
      "execution_count": 2,
      "id": "yTtX719o0b8v",
      "metadata": {
        "id": "yTtX719o0b8v"
      },
      "outputs": [
        {
          "name": "stdout",
          "output_type": "stream",
          "text": [
            "10% discount\n",
            "Original total = $85, Discount = $8.5, Final total = $76.5\n"
          ]
        }
      ],
      "source": [
        "# write your answer here\n",
        "cart_total = 85\n",
        "\n",
        "if cart_total < 50:\n",
        "    print(\"No discount \\n\")\n",
        "    print(f\"Total = ${cart_total}, Discount = $0, Final total = $ {cart_total}\")\n",
        "elif cart_total >=50 and cart_total < 100:\n",
        "    print(\"10% discount\")\n",
        "    print(f\"Original total = ${cart_total}, Discount = ${cart_total * 0.10}, Final total = ${cart_total - cart_total * 0.10}\")\n",
        "elif cart_total >= 100:\n",
        "    print(\"20% discount\")\n",
        "    print(f\"Original total = ${cart_total}, Discount = ${cart_total * 0.20}, Final total = ${cart_total - cart_total * 0.20}\")"
      ]
    },
    {
      "cell_type": "markdown",
      "id": "uOUYYC870b8x",
      "metadata": {
        "id": "uOUYYC870b8x"
      },
      "source": [
        "## Question 3 – Exam Grading\n",
        "Write a Python code that gives a letter grade for a score.\n",
        "If the score is between 90 and 100 the grade is A, if between 80 and 89 the grade is B, if between 70 and 79 the grade is C, if between 60 and 69 the grade is D, and if below 60 the grade is F.\n",
        "Print the grade and a short message.\n",
        "Run the program with score = 73."
      ]
    },
    {
      "cell_type": "code",
      "execution_count": 4,
      "id": "2b79474d",
      "metadata": {},
      "outputs": [
        {
          "name": "stdout",
          "output_type": "stream",
          "text": [
            "Grade: C. You passed.\n"
          ]
        }
      ],
      "source": [
        "sc = 73\n",
        "\n",
        "if 90 <= sc <= 100:\n",
        "    grade = 'A'\n",
        "    message = \"Excellent work!\"\n",
        "elif 80 <= sc <= 89:\n",
        "    grade = 'B'\n",
        "    message = \"Good job!\"\n",
        "elif 70 <= sc <= 79:\n",
        "    grade = 'C'\n",
        "    message = \"You passed.\"\n",
        "elif 60 <= sc <= 69:\n",
        "    grade = 'D'\n",
        "    message = \"You need to improve.\"\n",
        "else:\n",
        "    grade = 'F'\n",
        "    message = \"Failed. Better luck next time.\"\n",
        "\n",
        "print(f\"Grade: {grade}. {message}\")"
      ]
    },
    {
      "cell_type": "markdown",
      "id": "ZCIKM6Xs0b80",
      "metadata": {
        "id": "ZCIKM6Xs0b80"
      },
      "source": [
        "## Question 4 – Parking Fee\n",
        "Write a Python code that calculates parking fees.\n",
        "If the car is parked for 0 to 2 hours the parking is free, if the car is parked for 3 to 5 hours the fee is 3 dollars per hour, and if the car is parked for more than 5 hours the fee is 3 dollars per hour for the first three hours after free and then 5 dollars per hour for the rest.\n",
        "Print the number of hours and the total fee.\n",
        "Run the program with hours = 6."
      ]
    },
    {
      "cell_type": "code",
      "execution_count": 6,
      "id": "4bc1ed85",
      "metadata": {},
      "outputs": [
        {
          "name": "stdout",
          "output_type": "stream",
          "text": [
            "Hours parked: 6\n",
            "Total fee: $14\n"
          ]
        }
      ],
      "source": [
        "hours = 6\n",
        "\n",
        "if 0 <= hours <= 2:\n",
        "    fee = 0\n",
        "elif 3 <= hours <= 5:\n",
        "    fee = (hours - 2) * 3\n",
        "elif hours > 5:\n",
        "    fee = (3 * 3) + ((hours - 5) * 5)\n",
        "else:\n",
        "    fee = 0  # in case of negative hours\n",
        "\n",
        "print(f\"Hours parked: {hours}\")\n",
        "print(f\"Total fee: ${fee}\")"
      ]
    },
    {
      "cell_type": "markdown",
      "id": "XBf0-SPz0b83",
      "metadata": {
        "id": "XBf0-SPz0b83"
      },
      "source": [
        "## Question 5 – Cafeteria Menu\n",
        "Write a Python code that creates a list with three food items.\n",
        "Check if an order is in the list.\n",
        "If the item is in the list print a confirmation, and if the item is not in the list print a polite message.\n",
        "Run the program with menu = ['pizza','salad','sandwich'] and order = 'salad'."
      ]
    },
    {
      "cell_type": "code",
      "execution_count": 7,
      "id": "6b411caa",
      "metadata": {},
      "outputs": [
        {
          "name": "stdout",
          "output_type": "stream",
          "text": [
            "Salad is available. Your order is confirmed.\n"
          ]
        }
      ],
      "source": [
        "menu = ['pizza', 'salad', 'sandwich']\n",
        "order = 'salad'\n",
        "\n",
        "if order in menu:\n",
        "    print(f\"{order.capitalize()} is available. Your order is confirmed.\")\n",
        "else:\n",
        "    print(f\"Sorry, {order} is not on the menu.\")"
      ]
    },
    {
      "cell_type": "markdown",
      "id": "-60rL71F0b86",
      "metadata": {
        "id": "-60rL71F0b86"
      },
      "source": [
        "## Question 6 – Job Application Filter\n",
        "Write a Python code that checks if a person is eligible for a job.\n",
        "If the person is older than 22 and has more than 2 years of experience print Accepted.\n",
        "Otherwise print Not Accepted.\n",
        "Run the program with age = 23 and experience = 1."
      ]
    },
    {
      "cell_type": "code",
      "execution_count": null,
      "id": "49c48185",
      "metadata": {},
      "outputs": [],
      "source": [
        "age = 23\n",
        "experience = 1\n",
        "\n",
        "if age > 22 and experience > 2:\n",
        "    print(\"Accepted\")\n",
        "else:\n",
        "    print(\"Not Accepted\")"
      ]
    },
    {
      "cell_type": "markdown",
      "id": "MOMMxnuE0b8-",
      "metadata": {
        "id": "MOMMxnuE0b8-"
      },
      "source": [
        "## Question 7 – Clothing Advice\n",
        "Write a Python code that suggests clothing based on the temperature.\n",
        "If the temperature is below 10 print Coat and gloves, if the temperature is between 10 and 19 print Jacket, and if the temperature is 20 or more print T-shirt.\n",
        "Run the program with temperature = 15."
      ]
    },
    {
      "cell_type": "code",
      "execution_count": 8,
      "id": "981006f6",
      "metadata": {},
      "outputs": [
        {
          "name": "stdout",
          "output_type": "stream",
          "text": [
            "Jacket\n"
          ]
        }
      ],
      "source": [
        "temperature = 15\n",
        "\n",
        "if temperature < 10:\n",
        "    print(\"Coat and gloves\")\n",
        "elif 10 <= temperature <= 19:\n",
        "    print(\"Jacket\")\n",
        "else:\n",
        "    print(\"T-shirt\")"
      ]
    },
    {
      "cell_type": "markdown",
      "id": "R-i9Jzpn0b9A",
      "metadata": {
        "id": "R-i9Jzpn0b9A"
      },
      "source": [
        "## Question 8 – Loan Eligibility\n",
        "Write a Python code that checks loan eligibility.\n",
        "If the salary is at least 3000 and the credit score is at least 650 print Loan Approved, otherwise print Loan Denied.\n",
        "Run the program with salary = 3500 and credit_score = 640."
      ]
    },
    {
      "cell_type": "code",
      "execution_count": 9,
      "id": "2M0s0bC40b9B",
      "metadata": {
        "id": "2M0s0bC40b9B"
      },
      "outputs": [
        {
          "name": "stdout",
          "output_type": "stream",
          "text": [
            "Loan Denied\n"
          ]
        }
      ],
      "source": [
        "salary = 3500\n",
        "credit_score = 640\n",
        "if salary >= 3000 and credit_score >= 650:\n",
        "    print(\"Loan Approved\")\n",
        "else:\n",
        "    print(\"Loan Denied\")\n"
      ]
    },
    {
      "cell_type": "markdown",
      "id": "I0WmTyFv0b9D",
      "metadata": {
        "id": "I0WmTyFv0b9D"
      },
      "source": [
        "## Question 9 – Password Strength\n",
        "Write a Python code that checks if a password is strong, medium, or weak based on its length.\n",
        "If the password has fewer than 6 characters it is Weak, if it has 6 to 10 characters it is Medium, and if it has more than 10 characters it is Strong.\n",
        "Print the strength.\n",
        "Run the program with password = 'hello123'."
      ]
    },
    {
      "cell_type": "code",
      "execution_count": 13,
      "id": "Jm8fu7ft0b9E",
      "metadata": {
        "id": "Jm8fu7ft0b9E"
      },
      "outputs": [
        {
          "name": "stdout",
          "output_type": "stream",
          "text": [
            "Medium\n"
          ]
        }
      ],
      "source": [
        "# write your answer here\n",
        "password = \"hello123\"\n",
        "\n",
        "if (len(password) < 6):\n",
        "    print(\"Weak\")\n",
        "elif (6 <= len(password) <= 10):\n",
        "    print(\"Medium\")\n",
        "elif (len(password) > 10):\n",
        "    print(\"Strong\")"
      ]
    },
    {
      "cell_type": "markdown",
      "id": "kgKSm4WB0b9F",
      "metadata": {
        "id": "kgKSm4WB0b9F"
      },
      "source": [
        "## Question 10 – Guest List Checker\n",
        "Write a Python code that creates a list with three invited guests.\n",
        "Define a variable for a guest name.\n",
        "Check if the guest name is in the list.\n",
        "If the guest is in the list print Welcome, and if the guest is not in the list print Not on the list.\n",
        "Run the program with guest = 'Sara'."
      ]
    },
    {
      "cell_type": "code",
      "execution_count": 1,
      "id": "9322dd76",
      "metadata": {},
      "outputs": [
        {
          "name": "stdout",
          "output_type": "stream",
          "text": [
            "Welcome\n"
          ]
        }
      ],
      "source": [
        "guests = ['John', 'Sara', 'Mike']\n",
        "guest = 'Sara'\n",
        "\n",
        "if guest in guests:\n",
        "    print(\"Welcome\")\n",
        "else:\n",
        "    print(\"Not on the list\")"
      ]
    }
  ],
  "metadata": {
    "colab": {
      "provenance": []
    },
    "kernelspec": {
      "display_name": "Python 3",
      "language": "python",
      "name": "python3"
    },
    "language_info": {
      "codemirror_mode": {
        "name": "ipython",
        "version": 3
      },
      "file_extension": ".py",
      "mimetype": "text/x-python",
      "name": "python",
      "nbconvert_exporter": "python",
      "pygments_lexer": "ipython3",
      "version": "3.13.6"
    }
  },
  "nbformat": 4,
  "nbformat_minor": 5
}
