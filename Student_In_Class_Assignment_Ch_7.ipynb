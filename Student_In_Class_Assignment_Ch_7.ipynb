{
  "cells": [
    {
      "cell_type": "markdown",
      "metadata": {
        "id": "t1xs1X02Owtz"
      },
      "source": [
        "#Write a Python program that simulates a self-checkout system.**\n",
        "Use this price list: prices: apple= 1 ,  bread= 2.5 ,  milk=5 ,  egg= 6\n",
        "\n",
        "Program requirements:\n",
        "\n",
        "The program should repeatedly ask the user to enter an item name or enter \"pay\".\n",
        "\n",
        "\n",
        "• Valid inputs are the names of the **items above ** or the word \"pay\".\n",
        "\n",
        "\n",
        "If the entered item exists in the price list:\n",
        "\n",
        "• Add its price to the running total.\n",
        "\n",
        "\n",
        "• Print the message: \"Added , running total: $\".\n",
        "\n",
        "\n",
        "If the entered item does not exist in the price list:\n",
        "\n",
        "• Print \"Item not found\".\n",
        "\n",
        "If the user types \"pay\":\n",
        "\n",
        "• Stop asking for input.\n",
        "\n",
        "Show the following three values:\n",
        "\n",
        "\n",
        "**Subtotal: the sum of all valid items entered.**\n",
        "\n",
        "**Tax: 8% of the subtotal. (0.08 * total)**\n",
        "\n",
        "**Final total: subtotal + tax.**\n",
        "\n",
        "\n",
        "Run your program with this purchase list. For example, for one person whose purchase is:apple, pizza, bread, pay *italicised text*"
      ]
    },
    {
      "cell_type": "code",
      "execution_count": 4,
      "metadata": {
        "id": "nTH6mvq1OqHP"
      },
      "outputs": [
        {
          "name": "stdout",
          "output_type": "stream",
          "text": [
            "Added apple to cart. Running total: $1.00\n",
            "Item not found.\n",
            "Added bread to cart. Running total: $3.50\n",
            "Subtotal: $3.50\n",
            "Tax: $0.28\n",
            "Final total: 3.78\n"
          ]
        }
      ],
      "source": [
        "prices = {\n",
        "    \"apple\": 1,\n",
        "    \"bread\": 2.5,\n",
        "    \"milk\": 5,\n",
        "    \"egg\": 6,\n",
        "}\n",
        "\n",
        "running_total = 0\n",
        "\n",
        "while True:\n",
        "    \n",
        "    item = input(\"What item would you like to add to your cart? (Type 'pay' to finish) \").lower()\n",
        "    if item in prices.keys():\n",
        "        running_total += prices[item]\n",
        "        print(f\"Added {item} to cart. Running total: ${running_total:.2f}\")\n",
        "    elif item == \"pay\":\n",
        "        print(f\"Subtotal: ${running_total:.2f}\")\n",
        "        print(f\"Tax: ${running_total * 0.08:.2f}\")\n",
        "        print(f\"Final total: {running_total * 1.08:.2f}\")\n",
        "        break\n",
        "    else:\n",
        "        print(\"Item not found.\")"
      ]
    }
  ],
  "metadata": {
    "colab": {
      "provenance": []
    },
    "kernelspec": {
      "display_name": "data_science",
      "language": "python",
      "name": "python3"
    },
    "language_info": {
      "codemirror_mode": {
        "name": "ipython",
        "version": 3
      },
      "file_extension": ".py",
      "mimetype": "text/x-python",
      "name": "python",
      "nbconvert_exporter": "python",
      "pygments_lexer": "ipython3",
      "version": "3.13.6"
    }
  },
  "nbformat": 4,
  "nbformat_minor": 0
}
