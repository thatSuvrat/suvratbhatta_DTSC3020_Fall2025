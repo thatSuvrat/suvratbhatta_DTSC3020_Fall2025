{
 "nbformat": 4,
 "nbformat_minor": 0,
 "metadata": {
  "colab": {
   "provenance": [],
   "authorship_tag": "ABX9TyNojKwKdSnza9vye6eduScd",
   "include_colab_link": true
  },
  "kernelspec": {
   "name": "python3",
   "display_name": "Python 3 (ipykernel)",
   "language": "python"
  },
  "language_info": {
   "name": "python"
  }
 },
 "cells": [
  {
   "cell_type": "code",
   "source": "print(\"Hello World\")",
   "metadata": {
    "id": "WbnW0NRyRDe_",
    "ExecuteTime": {
     "end_time": "2025-08-25T16:37:16.905665Z",
     "start_time": "2025-08-25T16:37:16.901974Z"
    }
   },
   "outputs": [
    {
     "name": "stdout",
     "output_type": "stream",
     "text": [
      "Hello World\n"
     ]
    }
   ],
   "execution_count": 1
  }
 ]
}
